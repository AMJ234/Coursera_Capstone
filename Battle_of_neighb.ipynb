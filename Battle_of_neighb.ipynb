{
 "cells": [
  {
   "cell_type": "markdown",
   "metadata": {},
   "source": [
    "# London Boroughs Battle"
   ]
  },
  {
   "cell_type": "markdown",
   "metadata": {},
   "source": [
    "## Business Problem\n",
    "\n",
    "Our customer BestIndSpice is a start-up company which main activity is import of Indian spices. They intend to open a brick and mortar shop in London and ask us to evaluate the London boroughs and identify the borough with highest potential for this business.\n",
    "They target British Indian households from London that use to cook at home.\n"
   ]
  },
  {
   "cell_type": "markdown",
   "metadata": {},
   "source": [
    "## Data and analytic approach"
   ]
  },
  {
   "cell_type": "markdown",
   "metadata": {},
   "source": [
    "London is considered to be one of the world's most important global cities and has been called the world's most powerful, most desirable, most influential, most visited, most expensive,innovative,sustainable, most investment-friendly, and most-popular-for-work city” (https://en.wikipedia.org/wiki/London)\n",
    "\n",
    "London population was about 8.2 millions according to latest census from 2011.  \n",
    "Around 6.6% of London's population is of Indian origin,  largest ethnic minority group (more than 540 thousands in 2011).\n",
    "\n",
    "From administrative perspective, London has 32 boroughs. \n",
    "\n",
    "To identified the boroughs with the highest potential for Indian spices business we are going to use cluster analysis (k-means) on the  following dimensions considered with impact:\n",
    "\n",
    "- number of British Indians living in London and the share in total population (source:https://data.london.gov.uk/dataset/ethnic-group-population-projections) \n",
    "- number of Indian restaurants (source: Fousquare API)\n",
    "- number  of specialized spices stores (source: Fousquare API)\n"
   ]
  },
  {
   "cell_type": "markdown",
   "metadata": {},
   "source": [
    "## Data Collection and Processing"
   ]
  },
  {
   "cell_type": "code",
   "execution_count": 40,
   "metadata": {},
   "outputs": [
    {
     "name": "stdout",
     "output_type": "stream",
     "text": [
      "Collecting package metadata (current_repodata.json): done\n",
      "Solving environment: done\n",
      "\n",
      "# All requested packages already installed.\n",
      "\n"
     ]
    }
   ],
   "source": [
    "!conda install -c conda-forge geopy --yes"
   ]
  },
  {
   "cell_type": "code",
   "execution_count": 41,
   "metadata": {},
   "outputs": [
    {
     "name": "stdout",
     "output_type": "stream",
     "text": [
      "Collecting package metadata (current_repodata.json): done\n",
      "Solving environment: done\n",
      "\n",
      "# All requested packages already installed.\n",
      "\n"
     ]
    }
   ],
   "source": [
    "!conda install -c conda-forge folium=0.5.0 --yes "
   ]
  },
  {
   "cell_type": "code",
   "execution_count": 42,
   "metadata": {},
   "outputs": [],
   "source": [
    "import pandas as pd\n",
    "# Import libraries\n",
    "import numpy as np # library to handle data in a vectorized manner\n",
    "import json # library to handle JSON files\n",
    "\n",
    "from geopy.geocoders import Nominatim # convert an address into latitude and longitude values\n",
    "import folium # map rendering library\n",
    "\n",
    "import requests # library to handle requests\n",
    "from pandas.io.json import json_normalize # tranform JSON file into a pandas dataframe\n",
    "\n",
    "# Matplotlib and associated plotting modules\n",
    "import matplotlib.pyplot as plt\n",
    "import matplotlib.cm as cm\n",
    "import matplotlib.colors as colors"
   ]
  },
  {
   "cell_type": "code",
   "execution_count": 43,
   "metadata": {},
   "outputs": [
    {
     "data": {
      "text/html": [
       "<div>\n",
       "<style scoped>\n",
       "    .dataframe tbody tr th:only-of-type {\n",
       "        vertical-align: middle;\n",
       "    }\n",
       "\n",
       "    .dataframe tbody tr th {\n",
       "        vertical-align: top;\n",
       "    }\n",
       "\n",
       "    .dataframe thead th {\n",
       "        text-align: right;\n",
       "    }\n",
       "</style>\n",
       "<table border=\"1\" class=\"dataframe\">\n",
       "  <thead>\n",
       "    <tr style=\"text-align: right;\">\n",
       "      <th></th>\n",
       "      <th>borough</th>\n",
       "      <th>longitude</th>\n",
       "      <th>latitude</th>\n",
       "    </tr>\n",
       "  </thead>\n",
       "  <tbody>\n",
       "    <tr>\n",
       "      <th>0</th>\n",
       "      <td>Barking and Dagenham</td>\n",
       "      <td>0.1557</td>\n",
       "      <td>51.5607</td>\n",
       "    </tr>\n",
       "    <tr>\n",
       "      <th>1</th>\n",
       "      <td>Barnet</td>\n",
       "      <td>-0.1517</td>\n",
       "      <td>51.6252</td>\n",
       "    </tr>\n",
       "    <tr>\n",
       "      <th>2</th>\n",
       "      <td>Bexley</td>\n",
       "      <td>0.1505</td>\n",
       "      <td>51.4549</td>\n",
       "    </tr>\n",
       "    <tr>\n",
       "      <th>3</th>\n",
       "      <td>Brent</td>\n",
       "      <td>-0.2817</td>\n",
       "      <td>51.5588</td>\n",
       "    </tr>\n",
       "    <tr>\n",
       "      <th>4</th>\n",
       "      <td>Bromley</td>\n",
       "      <td>0.0198</td>\n",
       "      <td>51.4039</td>\n",
       "    </tr>\n",
       "  </tbody>\n",
       "</table>\n",
       "</div>"
      ],
      "text/plain": [
       "                borough  longitude  latitude\n",
       "0  Barking and Dagenham     0.1557   51.5607\n",
       "1                Barnet    -0.1517   51.6252\n",
       "2                Bexley     0.1505   51.4549\n",
       "3                 Brent    -0.2817   51.5588\n",
       "4               Bromley     0.0198   51.4039"
      ]
     },
     "execution_count": 43,
     "metadata": {},
     "output_type": "execute_result"
    }
   ],
   "source": [
    "# list of london borough and their coordinates\n",
    "!wget --quiet https://s3-api.us-geo.objectstorage.softlayer.net/cf-courses-data/CognitiveClass/DP0701EN/labs/Data_Files/london_coordinates.xlsx\n",
    "df_london_borough = pd.read_excel('london_coordinates.xlsx')\n",
    "df_london_borough.rename(columns={'Borough':'borough'}, inplace=True)\n",
    "df_london_borough=df_london_borough[df_london_borough['borough']!='City of London'] # City of London is not considered borough\n",
    "df_london_borough.head()"
   ]
  },
  {
   "cell_type": "code",
   "execution_count": 44,
   "metadata": {},
   "outputs": [
    {
     "data": {
      "text/html": [
       "<div>\n",
       "<style scoped>\n",
       "    .dataframe tbody tr th:only-of-type {\n",
       "        vertical-align: middle;\n",
       "    }\n",
       "\n",
       "    .dataframe tbody tr th {\n",
       "        vertical-align: top;\n",
       "    }\n",
       "\n",
       "    .dataframe thead th {\n",
       "        text-align: right;\n",
       "    }\n",
       "</style>\n",
       "<table border=\"1\" class=\"dataframe\">\n",
       "  <thead>\n",
       "    <tr style=\"text-align: right;\">\n",
       "      <th></th>\n",
       "      <th>gss_code</th>\n",
       "      <th>borough</th>\n",
       "      <th>sex</th>\n",
       "      <th>age</th>\n",
       "      <th>ethnic_group</th>\n",
       "      <th>2011</th>\n",
       "      <th>2012</th>\n",
       "      <th>2013</th>\n",
       "      <th>2014</th>\n",
       "      <th>2015</th>\n",
       "      <th>...</th>\n",
       "      <th>2041</th>\n",
       "      <th>2042</th>\n",
       "      <th>2043</th>\n",
       "      <th>2044</th>\n",
       "      <th>2045</th>\n",
       "      <th>2046</th>\n",
       "      <th>2047</th>\n",
       "      <th>2048</th>\n",
       "      <th>2049</th>\n",
       "      <th>2050</th>\n",
       "    </tr>\n",
       "  </thead>\n",
       "  <tbody>\n",
       "    <tr>\n",
       "      <th>0</th>\n",
       "      <td>E09000001</td>\n",
       "      <td>City of London</td>\n",
       "      <td>Persons</td>\n",
       "      <td>0</td>\n",
       "      <td>All persons</td>\n",
       "      <td>69</td>\n",
       "      <td>72</td>\n",
       "      <td>67</td>\n",
       "      <td>66</td>\n",
       "      <td>63</td>\n",
       "      <td>...</td>\n",
       "      <td>61</td>\n",
       "      <td>61</td>\n",
       "      <td>62</td>\n",
       "      <td>62</td>\n",
       "      <td>62</td>\n",
       "      <td>62</td>\n",
       "      <td>62</td>\n",
       "      <td>62</td>\n",
       "      <td>62</td>\n",
       "      <td>62</td>\n",
       "    </tr>\n",
       "    <tr>\n",
       "      <th>1</th>\n",
       "      <td>E09000001</td>\n",
       "      <td>City of London</td>\n",
       "      <td>Persons</td>\n",
       "      <td>1</td>\n",
       "      <td>All persons</td>\n",
       "      <td>52</td>\n",
       "      <td>69</td>\n",
       "      <td>63</td>\n",
       "      <td>65</td>\n",
       "      <td>65</td>\n",
       "      <td>...</td>\n",
       "      <td>54</td>\n",
       "      <td>54</td>\n",
       "      <td>55</td>\n",
       "      <td>55</td>\n",
       "      <td>55</td>\n",
       "      <td>55</td>\n",
       "      <td>55</td>\n",
       "      <td>55</td>\n",
       "      <td>55</td>\n",
       "      <td>55</td>\n",
       "    </tr>\n",
       "    <tr>\n",
       "      <th>2</th>\n",
       "      <td>E09000001</td>\n",
       "      <td>City of London</td>\n",
       "      <td>Persons</td>\n",
       "      <td>2</td>\n",
       "      <td>All persons</td>\n",
       "      <td>37</td>\n",
       "      <td>56</td>\n",
       "      <td>69</td>\n",
       "      <td>71</td>\n",
       "      <td>78</td>\n",
       "      <td>...</td>\n",
       "      <td>49</td>\n",
       "      <td>49</td>\n",
       "      <td>49</td>\n",
       "      <td>49</td>\n",
       "      <td>50</td>\n",
       "      <td>50</td>\n",
       "      <td>50</td>\n",
       "      <td>50</td>\n",
       "      <td>50</td>\n",
       "      <td>50</td>\n",
       "    </tr>\n",
       "    <tr>\n",
       "      <th>3</th>\n",
       "      <td>E09000001</td>\n",
       "      <td>City of London</td>\n",
       "      <td>Persons</td>\n",
       "      <td>3</td>\n",
       "      <td>All persons</td>\n",
       "      <td>41</td>\n",
       "      <td>45</td>\n",
       "      <td>55</td>\n",
       "      <td>75</td>\n",
       "      <td>79</td>\n",
       "      <td>...</td>\n",
       "      <td>50</td>\n",
       "      <td>50</td>\n",
       "      <td>50</td>\n",
       "      <td>50</td>\n",
       "      <td>51</td>\n",
       "      <td>51</td>\n",
       "      <td>51</td>\n",
       "      <td>51</td>\n",
       "      <td>51</td>\n",
       "      <td>51</td>\n",
       "    </tr>\n",
       "    <tr>\n",
       "      <th>4</th>\n",
       "      <td>E09000001</td>\n",
       "      <td>City of London</td>\n",
       "      <td>Persons</td>\n",
       "      <td>4</td>\n",
       "      <td>All persons</td>\n",
       "      <td>34</td>\n",
       "      <td>42</td>\n",
       "      <td>42</td>\n",
       "      <td>55</td>\n",
       "      <td>83</td>\n",
       "      <td>...</td>\n",
       "      <td>51</td>\n",
       "      <td>51</td>\n",
       "      <td>51</td>\n",
       "      <td>51</td>\n",
       "      <td>51</td>\n",
       "      <td>51</td>\n",
       "      <td>51</td>\n",
       "      <td>52</td>\n",
       "      <td>52</td>\n",
       "      <td>52</td>\n",
       "    </tr>\n",
       "  </tbody>\n",
       "</table>\n",
       "<p>5 rows × 45 columns</p>\n",
       "</div>"
      ],
      "text/plain": [
       "    gss_code         borough      sex age ethnic_group  2011  2012  2013  \\\n",
       "0  E09000001  City of London  Persons   0  All persons    69    72    67   \n",
       "1  E09000001  City of London  Persons   1  All persons    52    69    63   \n",
       "2  E09000001  City of London  Persons   2  All persons    37    56    69   \n",
       "3  E09000001  City of London  Persons   3  All persons    41    45    55   \n",
       "4  E09000001  City of London  Persons   4  All persons    34    42    42   \n",
       "\n",
       "   2014  2015  ...  2041  2042  2043  2044  2045  2046  2047  2048  2049  2050  \n",
       "0    66    63  ...    61    61    62    62    62    62    62    62    62    62  \n",
       "1    65    65  ...    54    54    55    55    55    55    55    55    55    55  \n",
       "2    71    78  ...    49    49    49    49    50    50    50    50    50    50  \n",
       "3    75    79  ...    50    50    50    50    51    51    51    51    51    51  \n",
       "4    55    83  ...    51    51    51    51    51    51    51    52    52    52  \n",
       "\n",
       "[5 rows x 45 columns]"
      ]
     },
     "execution_count": 44,
     "metadata": {},
     "output_type": "execute_result"
    }
   ],
   "source": [
    "# population data forecast\n",
    "# population forecast file is around 38MB. it might take a while to download\n",
    "\n",
    "!wget --quiet https://data.london.gov.uk/download/ethnic-group-population-projections/a9598ef0-808c-4f96-9eac-8bb314bd92cd/Ethnic%20group%20projections%20%282016-based%20central%20trend%29.xlsx\n",
    "df_population = pd.read_excel('Ethnic group projections (2016-based central trend).xlsx', sheet_name= 'Population - Persons')\n",
    "df_population.head()\n",
    "\n"
   ]
  },
  {
   "cell_type": "code",
   "execution_count": 45,
   "metadata": {},
   "outputs": [
    {
     "name": "stdout",
     "output_type": "stream",
     "text": [
      "(36, 2)\n"
     ]
    },
    {
     "data": {
      "text/html": [
       "<div>\n",
       "<style scoped>\n",
       "    .dataframe tbody tr th:only-of-type {\n",
       "        vertical-align: middle;\n",
       "    }\n",
       "\n",
       "    .dataframe tbody tr th {\n",
       "        vertical-align: top;\n",
       "    }\n",
       "\n",
       "    .dataframe thead th {\n",
       "        text-align: right;\n",
       "    }\n",
       "</style>\n",
       "<table border=\"1\" class=\"dataframe\">\n",
       "  <thead>\n",
       "    <tr style=\"text-align: right;\">\n",
       "      <th></th>\n",
       "      <th>borough</th>\n",
       "      <th>Indian_pop_fcast_2025</th>\n",
       "    </tr>\n",
       "  </thead>\n",
       "  <tbody>\n",
       "    <tr>\n",
       "      <th>0</th>\n",
       "      <td>City of London</td>\n",
       "      <td>261</td>\n",
       "    </tr>\n",
       "    <tr>\n",
       "      <th>1</th>\n",
       "      <td>Barking and Dagenham</td>\n",
       "      <td>15102</td>\n",
       "    </tr>\n",
       "    <tr>\n",
       "      <th>2</th>\n",
       "      <td>Barnet</td>\n",
       "      <td>32852</td>\n",
       "    </tr>\n",
       "    <tr>\n",
       "      <th>3</th>\n",
       "      <td>Bexley</td>\n",
       "      <td>9763</td>\n",
       "    </tr>\n",
       "    <tr>\n",
       "      <th>4</th>\n",
       "      <td>Brent</td>\n",
       "      <td>64047</td>\n",
       "    </tr>\n",
       "  </tbody>\n",
       "</table>\n",
       "</div>"
      ],
      "text/plain": [
       "                borough  Indian_pop_fcast_2025\n",
       "0        City of London                    261\n",
       "1  Barking and Dagenham                  15102\n",
       "2                Barnet                  32852\n",
       "3                Bexley                   9763\n",
       "4                 Brent                  64047"
      ]
     },
     "execution_count": 45,
     "metadata": {},
     "output_type": "execute_result"
    }
   ],
   "source": [
    "df_Indian_pop=df_population[['borough',2025]][(df_population['age']=='All ages') & \n",
    "                                (df_population['ethnic_group']=='Indian')].reset_index(drop = True)\n",
    "print(df_Indian_pop.shape)\n",
    "df_Indian_pop.rename(columns={2025 : 'Indian_pop_fcast_2025'}  , inplace = True)\n",
    "df_Indian_pop.head()\n"
   ]
  },
  {
   "cell_type": "code",
   "execution_count": 46,
   "metadata": {},
   "outputs": [
    {
     "name": "stdout",
     "output_type": "stream",
     "text": [
      "(36, 2)\n"
     ]
    },
    {
     "data": {
      "text/html": [
       "<div>\n",
       "<style scoped>\n",
       "    .dataframe tbody tr th:only-of-type {\n",
       "        vertical-align: middle;\n",
       "    }\n",
       "\n",
       "    .dataframe tbody tr th {\n",
       "        vertical-align: top;\n",
       "    }\n",
       "\n",
       "    .dataframe thead th {\n",
       "        text-align: right;\n",
       "    }\n",
       "</style>\n",
       "<table border=\"1\" class=\"dataframe\">\n",
       "  <thead>\n",
       "    <tr style=\"text-align: right;\">\n",
       "      <th></th>\n",
       "      <th>borough</th>\n",
       "      <th>London_all_pop_fcast_2025</th>\n",
       "    </tr>\n",
       "  </thead>\n",
       "  <tbody>\n",
       "    <tr>\n",
       "      <th>0</th>\n",
       "      <td>City of London</td>\n",
       "      <td>7556</td>\n",
       "    </tr>\n",
       "    <tr>\n",
       "      <th>1</th>\n",
       "      <td>Barking and Dagenham</td>\n",
       "      <td>237099</td>\n",
       "    </tr>\n",
       "    <tr>\n",
       "      <th>2</th>\n",
       "      <td>Barnet</td>\n",
       "      <td>429365</td>\n",
       "    </tr>\n",
       "    <tr>\n",
       "      <th>3</th>\n",
       "      <td>Bexley</td>\n",
       "      <td>265504</td>\n",
       "    </tr>\n",
       "    <tr>\n",
       "      <th>4</th>\n",
       "      <td>Brent</td>\n",
       "      <td>358014</td>\n",
       "    </tr>\n",
       "  </tbody>\n",
       "</table>\n",
       "</div>"
      ],
      "text/plain": [
       "                borough  London_all_pop_fcast_2025\n",
       "0        City of London                       7556\n",
       "1  Barking and Dagenham                     237099\n",
       "2                Barnet                     429365\n",
       "3                Bexley                     265504\n",
       "4                 Brent                     358014"
      ]
     },
     "execution_count": 46,
     "metadata": {},
     "output_type": "execute_result"
    }
   ],
   "source": [
    "\n",
    "df_all_pop=df_population[['borough', 2025]][(df_population['age']=='All ages') & \n",
    "                                (df_population['ethnic_group']=='All persons')].reset_index(drop = True)\n",
    "print(df_all_pop.shape)\n",
    "df_all_pop.rename(columns={2025 : 'London_all_pop_fcast_2025'}  , inplace = True)\n",
    "df_all_pop.head()\n"
   ]
  },
  {
   "cell_type": "code",
   "execution_count": 47,
   "metadata": {},
   "outputs": [
    {
     "name": "stdout",
     "output_type": "stream",
     "text": [
      "(32, 2)\n"
     ]
    },
    {
     "data": {
      "text/html": [
       "<div>\n",
       "<style scoped>\n",
       "    .dataframe tbody tr th:only-of-type {\n",
       "        vertical-align: middle;\n",
       "    }\n",
       "\n",
       "    .dataframe tbody tr th {\n",
       "        vertical-align: top;\n",
       "    }\n",
       "\n",
       "    .dataframe thead th {\n",
       "        text-align: right;\n",
       "    }\n",
       "</style>\n",
       "<table border=\"1\" class=\"dataframe\">\n",
       "  <thead>\n",
       "    <tr style=\"text-align: right;\">\n",
       "      <th></th>\n",
       "      <th>borough</th>\n",
       "      <th>Weekly_earning_2109</th>\n",
       "    </tr>\n",
       "  </thead>\n",
       "  <tbody>\n",
       "    <tr>\n",
       "      <th>0</th>\n",
       "      <td>Barking and Dagenham</td>\n",
       "      <td>472.9</td>\n",
       "    </tr>\n",
       "    <tr>\n",
       "      <th>1</th>\n",
       "      <td>Barnet</td>\n",
       "      <td>536.6</td>\n",
       "    </tr>\n",
       "    <tr>\n",
       "      <th>2</th>\n",
       "      <td>Bexley</td>\n",
       "      <td>550.2</td>\n",
       "    </tr>\n",
       "    <tr>\n",
       "      <th>3</th>\n",
       "      <td>Brent</td>\n",
       "      <td>524.6</td>\n",
       "    </tr>\n",
       "    <tr>\n",
       "      <th>4</th>\n",
       "      <td>Bromley</td>\n",
       "      <td>641.3</td>\n",
       "    </tr>\n",
       "  </tbody>\n",
       "</table>\n",
       "</div>"
      ],
      "text/plain": [
       "                borough  Weekly_earning_2109\n",
       "0  Barking and Dagenham                472.9\n",
       "1                Barnet                536.6\n",
       "2                Bexley                550.2\n",
       "3                 Brent                524.6\n",
       "4               Bromley                641.3"
      ]
     },
     "execution_count": 47,
     "metadata": {},
     "output_type": "execute_result"
    }
   ],
   "source": [
    "#income by borough\n",
    "!wget --quiet https://data.london.gov.uk/download/earnings-place-residence-borough/1686ef1c-b169-442d-8877-e7e49788f668/earnings-residence-borough.xlsx\n",
    "df_earnings =pd.read_excel(\"earnings-residence-borough.xlsx\", sheet_name = \"Total, weekly\", \n",
    "                           skiprows=range(4),\n",
    "                           usecols = (1,36),\n",
    "                           header=None,\n",
    "                           nrows=32) \n",
    "df_earnings.columns=['borough','Weekly_earning_2109']\n",
    "print(df_earnings.shape)\n",
    "df_earnings.head()"
   ]
  },
  {
   "cell_type": "markdown",
   "metadata": {},
   "source": [
    "### Data about venues from Foursquare API"
   ]
  },
  {
   "cell_type": "code",
   "execution_count": 48,
   "metadata": {},
   "outputs": [],
   "source": [
    "\n",
    "CLIENT_ID = 'H4UCIYKFLXJEKX2VF0ICIBIKQRC4E10UTRPVKEHVU4VD5UC0' \n",
    "CLIENT_SECRET = 'HOI22YK0ATBQNACCYV2VT2KD0KBGIKUKGWF31EZLSEQQGDR1' "
   ]
  },
  {
   "cell_type": "code",
   "execution_count": 49,
   "metadata": {},
   "outputs": [],
   "source": [
    "# these helper functions help handling error due to missing key in dictionary\n",
    "\n",
    "def checkKey(dict, key):\n",
    "    if key in dict:\n",
    "        return dict[key]\n",
    "    else: \n",
    "        return \"-NA-\"\n",
    "\n",
    "def checkCategories (list, key):\n",
    "    if len(list)>0 :\n",
    "        dict=list[0]\n",
    "        return checkKey(dict,key)\n",
    "    else:\n",
    "        return \"-NA-\"\n"
   ]
  },
  {
   "cell_type": "markdown",
   "metadata": {},
   "source": [
    "For our analysis we need info about Indian restaurants and Herbs & Spices Stores. We defined getNearbyVenuesByCategId function to extract info from Foursquare API filtering by CategoryId.\n",
    "\n",
    "Using https://developer.foursquare.com/docs/build-with-foursquare/categories/ we found that \n",
    "Indian Restaurant has CategoryId 4bf58dd8d48988d10f941735\n",
    "Herbs & Spices Store has CategoryId 52f2ab2ebcbc57f1066b8b2c\n",
    "\n"
   ]
  },
  {
   "cell_type": "code",
   "execution_count": 50,
   "metadata": {},
   "outputs": [],
   "source": [
    "\n",
    "def getNearbyVenuesByCategId(names, latitudes, longitudes, radius, VERSION, LIMIT, categoryId, intent):\n",
    "    \n",
    "    venues_list=[]\n",
    "    for name, lat, lng in zip(names, latitudes, longitudes):\n",
    "        \n",
    "        # create the API request URL\n",
    "        url = 'https://api.foursquare.com/v2/venues/search?client_id={}&client_secret={}&ll={},{}&v={}&categoryId={}&intent={}&radius={}&limit={}'.format(\n",
    "                CLIENT_ID, CLIENT_SECRET, lat, lng, VERSION, categoryId, intent, radius, LIMIT)\n",
    "        # print(url)   \n",
    "        # make the GET request\n",
    "        # print(requests.get(url).json())\n",
    "        results = requests.get(url).json()['response']['venues']\n",
    "\n",
    "        # return only relevant information for each venue\n",
    "            \n",
    "        a = [(name, \n",
    "            lat, \n",
    "            lng, \n",
    "            v['id'],\n",
    "            v['name'], \n",
    "            v['location']['lat'], \n",
    "            v['location']['lng'],\n",
    "            v['location']['distance'],\n",
    "            checkKey(v['location'],'city'),\n",
    "            v['location']['country'],\n",
    "            checkCategories(v['categories'],'name'),\n",
    "            checkCategories(v['categories'],'shortName'),\n",
    "            checkCategories(v['categories'],'id'))\n",
    "            for v in results]\n",
    "        # print(a)\n",
    "        venues_list.append(a)    \n",
    "\n",
    "    \n",
    "    nearby_venues = pd.DataFrame([item for venue_list in venues_list for item in venue_list])\n",
    "    nearby_venues.columns = ['borough', \n",
    "                  'Borough Latitude', \n",
    "                  'Borough Longitude',\n",
    "                  'Venue Id',\n",
    "                  'Venue Name', \n",
    "                  'Venue Latitude', \n",
    "                  'Venue Longitude', \n",
    "                  'Venue Distance',\n",
    "                  'Venue City', \n",
    "                  'Venue Country',\n",
    "                  'Venue Category',\n",
    "                  'Venue Short Category',\n",
    "                  'CategId']\n",
    "    \n",
    "    #retain only record with primary Categ ID = categoryId\n",
    "    nearby_venues = nearby_venues[nearby_venues['CategId']==categoryId]\n",
    "    \n",
    "    return(nearby_venues)"
   ]
  },
  {
   "cell_type": "code",
   "execution_count": 51,
   "metadata": {},
   "outputs": [],
   "source": [
    "#extract indian restaurant searching by category Id  https://developer.foursquare.com/docs/build-with-foursquare/categories/\n",
    "\n",
    "df_london_indian_rest = getNearbyVenuesByCategId(names =df_london_borough['borough'], \n",
    "                                          latitudes=df_london_borough['latitude'], \n",
    "                                          longitudes=df_london_borough['longitude'], \n",
    "                                          VERSION='20200331', \n",
    "                                          radius =1500,\n",
    "                                          LIMIT=100, \n",
    "                                         categoryId='4bf58dd8d48988d10f941735', intent='browse')\n"
   ]
  },
  {
   "cell_type": "code",
   "execution_count": 52,
   "metadata": {},
   "outputs": [
    {
     "name": "stdout",
     "output_type": "stream",
     "text": [
      "(656, 13)\n"
     ]
    },
    {
     "data": {
      "text/html": [
       "<div>\n",
       "<style scoped>\n",
       "    .dataframe tbody tr th:only-of-type {\n",
       "        vertical-align: middle;\n",
       "    }\n",
       "\n",
       "    .dataframe tbody tr th {\n",
       "        vertical-align: top;\n",
       "    }\n",
       "\n",
       "    .dataframe thead th {\n",
       "        text-align: right;\n",
       "    }\n",
       "</style>\n",
       "<table border=\"1\" class=\"dataframe\">\n",
       "  <thead>\n",
       "    <tr style=\"text-align: right;\">\n",
       "      <th></th>\n",
       "      <th>borough</th>\n",
       "      <th>Borough Latitude</th>\n",
       "      <th>Borough Longitude</th>\n",
       "      <th>Venue Id</th>\n",
       "      <th>Venue Name</th>\n",
       "      <th>Venue Latitude</th>\n",
       "      <th>Venue Longitude</th>\n",
       "      <th>Venue Distance</th>\n",
       "      <th>Venue City</th>\n",
       "      <th>Venue Country</th>\n",
       "      <th>Venue Category</th>\n",
       "      <th>Venue Short Category</th>\n",
       "      <th>CategId</th>\n",
       "    </tr>\n",
       "  </thead>\n",
       "  <tbody>\n",
       "    <tr>\n",
       "      <th>0</th>\n",
       "      <td>Barking and Dagenham</td>\n",
       "      <td>51.5607</td>\n",
       "      <td>0.1557</td>\n",
       "      <td>4f3561afe4b0debe1f187692</td>\n",
       "      <td>Saffron Restaurant</td>\n",
       "      <td>51.565345</td>\n",
       "      <td>0.171533</td>\n",
       "      <td>1211</td>\n",
       "      <td>-NA-</td>\n",
       "      <td>United Kingdom</td>\n",
       "      <td>Indian Restaurant</td>\n",
       "      <td>Indian</td>\n",
       "      <td>4bf58dd8d48988d10f941735</td>\n",
       "    </tr>\n",
       "    <tr>\n",
       "      <th>1</th>\n",
       "      <td>Barking and Dagenham</td>\n",
       "      <td>51.5607</td>\n",
       "      <td>0.1557</td>\n",
       "      <td>52cdc68311d23a96916b2892</td>\n",
       "      <td>Tarka</td>\n",
       "      <td>51.552033</td>\n",
       "      <td>0.162370</td>\n",
       "      <td>1069</td>\n",
       "      <td>Dagenham</td>\n",
       "      <td>United Kingdom</td>\n",
       "      <td>Indian Restaurant</td>\n",
       "      <td>Indian</td>\n",
       "      <td>4bf58dd8d48988d10f941735</td>\n",
       "    </tr>\n",
       "    <tr>\n",
       "      <th>2</th>\n",
       "      <td>Barking and Dagenham</td>\n",
       "      <td>51.5607</td>\n",
       "      <td>0.1557</td>\n",
       "      <td>4bfd89eff7c82d7f4b558e04</td>\n",
       "      <td>Shirins Tandoori</td>\n",
       "      <td>51.572158</td>\n",
       "      <td>0.166567</td>\n",
       "      <td>1480</td>\n",
       "      <td>London</td>\n",
       "      <td>United Kingdom</td>\n",
       "      <td>Indian Restaurant</td>\n",
       "      <td>Indian</td>\n",
       "      <td>4bf58dd8d48988d10f941735</td>\n",
       "    </tr>\n",
       "    <tr>\n",
       "      <th>3</th>\n",
       "      <td>Barking and Dagenham</td>\n",
       "      <td>51.5607</td>\n",
       "      <td>0.1557</td>\n",
       "      <td>5638ff6060b2753ece75b57a</td>\n",
       "      <td>Clay Oven Indian Takeaway</td>\n",
       "      <td>51.563209</td>\n",
       "      <td>0.146845</td>\n",
       "      <td>673</td>\n",
       "      <td>-NA-</td>\n",
       "      <td>United Kingdom</td>\n",
       "      <td>Indian Restaurant</td>\n",
       "      <td>Indian</td>\n",
       "      <td>4bf58dd8d48988d10f941735</td>\n",
       "    </tr>\n",
       "    <tr>\n",
       "      <th>4</th>\n",
       "      <td>Barnet</td>\n",
       "      <td>51.6252</td>\n",
       "      <td>-0.1517</td>\n",
       "      <td>4b4cebf1f964a5204bc426e3</td>\n",
       "      <td>Boulevard Club</td>\n",
       "      <td>51.614627</td>\n",
       "      <td>-0.149623</td>\n",
       "      <td>1185</td>\n",
       "      <td>London</td>\n",
       "      <td>United Kingdom</td>\n",
       "      <td>Indian Restaurant</td>\n",
       "      <td>Indian</td>\n",
       "      <td>4bf58dd8d48988d10f941735</td>\n",
       "    </tr>\n",
       "  </tbody>\n",
       "</table>\n",
       "</div>"
      ],
      "text/plain": [
       "                borough  Borough Latitude  Borough Longitude  \\\n",
       "0  Barking and Dagenham           51.5607             0.1557   \n",
       "1  Barking and Dagenham           51.5607             0.1557   \n",
       "2  Barking and Dagenham           51.5607             0.1557   \n",
       "3  Barking and Dagenham           51.5607             0.1557   \n",
       "4                Barnet           51.6252            -0.1517   \n",
       "\n",
       "                   Venue Id                 Venue Name  Venue Latitude  \\\n",
       "0  4f3561afe4b0debe1f187692         Saffron Restaurant       51.565345   \n",
       "1  52cdc68311d23a96916b2892                      Tarka       51.552033   \n",
       "2  4bfd89eff7c82d7f4b558e04           Shirins Tandoori       51.572158   \n",
       "3  5638ff6060b2753ece75b57a  Clay Oven Indian Takeaway       51.563209   \n",
       "4  4b4cebf1f964a5204bc426e3             Boulevard Club       51.614627   \n",
       "\n",
       "   Venue Longitude  Venue Distance Venue City   Venue Country  \\\n",
       "0         0.171533            1211       -NA-  United Kingdom   \n",
       "1         0.162370            1069   Dagenham  United Kingdom   \n",
       "2         0.166567            1480     London  United Kingdom   \n",
       "3         0.146845             673       -NA-  United Kingdom   \n",
       "4        -0.149623            1185     London  United Kingdom   \n",
       "\n",
       "      Venue Category Venue Short Category                   CategId  \n",
       "0  Indian Restaurant               Indian  4bf58dd8d48988d10f941735  \n",
       "1  Indian Restaurant               Indian  4bf58dd8d48988d10f941735  \n",
       "2  Indian Restaurant               Indian  4bf58dd8d48988d10f941735  \n",
       "3  Indian Restaurant               Indian  4bf58dd8d48988d10f941735  \n",
       "4  Indian Restaurant               Indian  4bf58dd8d48988d10f941735  "
      ]
     },
     "execution_count": 52,
     "metadata": {},
     "output_type": "execute_result"
    }
   ],
   "source": [
    "print(df_london_indian_rest.shape)\n",
    "df_london_indian_rest.head() "
   ]
  },
  {
   "cell_type": "code",
   "execution_count": 53,
   "metadata": {},
   "outputs": [
    {
     "data": {
      "text/html": [
       "<div>\n",
       "<style scoped>\n",
       "    .dataframe tbody tr th:only-of-type {\n",
       "        vertical-align: middle;\n",
       "    }\n",
       "\n",
       "    .dataframe tbody tr th {\n",
       "        vertical-align: top;\n",
       "    }\n",
       "\n",
       "    .dataframe thead th {\n",
       "        text-align: right;\n",
       "    }\n",
       "</style>\n",
       "<table border=\"1\" class=\"dataframe\">\n",
       "  <thead>\n",
       "    <tr style=\"text-align: right;\">\n",
       "      <th></th>\n",
       "      <th>borough</th>\n",
       "      <th>Number_of_Indian_restaurants</th>\n",
       "    </tr>\n",
       "  </thead>\n",
       "  <tbody>\n",
       "    <tr>\n",
       "      <th>0</th>\n",
       "      <td>Barking and Dagenham</td>\n",
       "      <td>4</td>\n",
       "    </tr>\n",
       "    <tr>\n",
       "      <th>1</th>\n",
       "      <td>Barnet</td>\n",
       "      <td>7</td>\n",
       "    </tr>\n",
       "    <tr>\n",
       "      <th>2</th>\n",
       "      <td>Bexley</td>\n",
       "      <td>8</td>\n",
       "    </tr>\n",
       "    <tr>\n",
       "      <th>3</th>\n",
       "      <td>Brent</td>\n",
       "      <td>28</td>\n",
       "    </tr>\n",
       "    <tr>\n",
       "      <th>4</th>\n",
       "      <td>Bromley</td>\n",
       "      <td>15</td>\n",
       "    </tr>\n",
       "  </tbody>\n",
       "</table>\n",
       "</div>"
      ],
      "text/plain": [
       "                borough  Number_of_Indian_restaurants\n",
       "0  Barking and Dagenham                             4\n",
       "1                Barnet                             7\n",
       "2                Bexley                             8\n",
       "3                 Brent                            28\n",
       "4               Bromley                            15"
      ]
     },
     "execution_count": 53,
     "metadata": {},
     "output_type": "execute_result"
    }
   ],
   "source": [
    "df_rest_by_borough = df_london_indian_rest.groupby('borough',as_index=False).count()[['borough', 'Venue Id']]\n",
    "df_rest_by_borough.columns = ['borough', 'Number_of_Indian_restaurants']\n",
    "df_rest_by_borough.head()"
   ]
  },
  {
   "cell_type": "code",
   "execution_count": 54,
   "metadata": {},
   "outputs": [
    {
     "name": "stdout",
     "output_type": "stream",
     "text": [
      "(9, 13)\n"
     ]
    }
   ],
   "source": [
    "df_london_spices_ID = getNearbyVenuesByCategId(names =df_london_borough['borough'], \n",
    "                                          latitudes=df_london_borough['latitude'], \n",
    "                                          longitudes=df_london_borough['longitude'], \n",
    "                                          radius =3000, \n",
    "                                          VERSION='20200331', \n",
    "                                          LIMIT=100, \n",
    "                                          categoryId='52f2ab2ebcbc57f1066b8b2c', intent='browse')\n",
    "df_london_spices_ID.to_csv('df_london_spices_ID.csv')\n",
    "print(df_london_spices_ID.shape)"
   ]
  },
  {
   "cell_type": "code",
   "execution_count": 55,
   "metadata": {},
   "outputs": [
    {
     "data": {
      "text/html": [
       "<div>\n",
       "<style scoped>\n",
       "    .dataframe tbody tr th:only-of-type {\n",
       "        vertical-align: middle;\n",
       "    }\n",
       "\n",
       "    .dataframe tbody tr th {\n",
       "        vertical-align: top;\n",
       "    }\n",
       "\n",
       "    .dataframe thead th {\n",
       "        text-align: right;\n",
       "    }\n",
       "</style>\n",
       "<table border=\"1\" class=\"dataframe\">\n",
       "  <thead>\n",
       "    <tr style=\"text-align: right;\">\n",
       "      <th></th>\n",
       "      <th>borough</th>\n",
       "      <th>Borough Latitude</th>\n",
       "      <th>Borough Longitude</th>\n",
       "      <th>Venue Id</th>\n",
       "      <th>Venue Name</th>\n",
       "      <th>Venue Latitude</th>\n",
       "      <th>Venue Longitude</th>\n",
       "      <th>Venue Distance</th>\n",
       "      <th>Venue City</th>\n",
       "      <th>Venue Country</th>\n",
       "      <th>Venue Category</th>\n",
       "      <th>Venue Short Category</th>\n",
       "      <th>CategId</th>\n",
       "    </tr>\n",
       "  </thead>\n",
       "  <tbody>\n",
       "    <tr>\n",
       "      <th>0</th>\n",
       "      <td>Kensington and Chelsea</td>\n",
       "      <td>51.5020</td>\n",
       "      <td>-0.1947</td>\n",
       "      <td>4ac518f1f964a5200fae20e3</td>\n",
       "      <td>The Spice Shop</td>\n",
       "      <td>51.515901</td>\n",
       "      <td>-0.205181</td>\n",
       "      <td>1709</td>\n",
       "      <td>London</td>\n",
       "      <td>United Kingdom</td>\n",
       "      <td>Herbs &amp; Spices Store</td>\n",
       "      <td>Herbs &amp; Spices Store</td>\n",
       "      <td>52f2ab2ebcbc57f1066b8b2c</td>\n",
       "    </tr>\n",
       "    <tr>\n",
       "      <th>1</th>\n",
       "      <td>Southwark</td>\n",
       "      <td>51.5035</td>\n",
       "      <td>-0.0804</td>\n",
       "      <td>5115114fe4b0f2b66bbaeccb</td>\n",
       "      <td>Spice Mountain</td>\n",
       "      <td>51.505284</td>\n",
       "      <td>-0.090410</td>\n",
       "      <td>721</td>\n",
       "      <td>London</td>\n",
       "      <td>United Kingdom</td>\n",
       "      <td>Herbs &amp; Spices Store</td>\n",
       "      <td>Herbs &amp; Spices Store</td>\n",
       "      <td>52f2ab2ebcbc57f1066b8b2c</td>\n",
       "    </tr>\n",
       "    <tr>\n",
       "      <th>2</th>\n",
       "      <td>Brent</td>\n",
       "      <td>51.5588</td>\n",
       "      <td>-0.2817</td>\n",
       "      <td>518e38be498edeec7c53d920</td>\n",
       "      <td>VB &amp; Sons</td>\n",
       "      <td>51.585192</td>\n",
       "      <td>-0.282383</td>\n",
       "      <td>2938</td>\n",
       "      <td>-NA-</td>\n",
       "      <td>United Kingdom</td>\n",
       "      <td>Herbs &amp; Spices Store</td>\n",
       "      <td>Herbs &amp; Spices Store</td>\n",
       "      <td>52f2ab2ebcbc57f1066b8b2c</td>\n",
       "    </tr>\n",
       "    <tr>\n",
       "      <th>3</th>\n",
       "      <td>Richmond upon Thames</td>\n",
       "      <td>51.4479</td>\n",
       "      <td>-0.3260</td>\n",
       "      <td>548c861d498ee06c324650d9</td>\n",
       "      <td>Nice Spice</td>\n",
       "      <td>51.460080</td>\n",
       "      <td>-0.333871</td>\n",
       "      <td>1461</td>\n",
       "      <td>-NA-</td>\n",
       "      <td>United Kingdom</td>\n",
       "      <td>Herbs &amp; Spices Store</td>\n",
       "      <td>Herbs &amp; Spices Store</td>\n",
       "      <td>52f2ab2ebcbc57f1066b8b2c</td>\n",
       "    </tr>\n",
       "    <tr>\n",
       "      <th>4</th>\n",
       "      <td>Richmond upon Thames</td>\n",
       "      <td>51.4479</td>\n",
       "      <td>-0.3260</td>\n",
       "      <td>56a1313e498eb269f2eab3ff</td>\n",
       "      <td>T2</td>\n",
       "      <td>51.461084</td>\n",
       "      <td>-0.303798</td>\n",
       "      <td>2127</td>\n",
       "      <td>London</td>\n",
       "      <td>United Kingdom</td>\n",
       "      <td>Herbs &amp; Spices Store</td>\n",
       "      <td>Herbs &amp; Spices Store</td>\n",
       "      <td>52f2ab2ebcbc57f1066b8b2c</td>\n",
       "    </tr>\n",
       "    <tr>\n",
       "      <th>5</th>\n",
       "      <td>Southwark</td>\n",
       "      <td>51.5035</td>\n",
       "      <td>-0.0804</td>\n",
       "      <td>576467fc498ee4a1353d3ce6</td>\n",
       "      <td>Twinings</td>\n",
       "      <td>51.514175</td>\n",
       "      <td>-0.075297</td>\n",
       "      <td>1239</td>\n",
       "      <td>London</td>\n",
       "      <td>United Kingdom</td>\n",
       "      <td>Herbs &amp; Spices Store</td>\n",
       "      <td>Herbs &amp; Spices Store</td>\n",
       "      <td>52f2ab2ebcbc57f1066b8b2c</td>\n",
       "    </tr>\n",
       "    <tr>\n",
       "      <th>6</th>\n",
       "      <td>Hammersmith and Fulham</td>\n",
       "      <td>51.4927</td>\n",
       "      <td>-0.2339</td>\n",
       "      <td>5b7e9dc9180b91002c264841</td>\n",
       "      <td>Herbology Health</td>\n",
       "      <td>51.506464</td>\n",
       "      <td>-0.264878</td>\n",
       "      <td>2637</td>\n",
       "      <td>Lincoln</td>\n",
       "      <td>United Kingdom</td>\n",
       "      <td>Herbs &amp; Spices Store</td>\n",
       "      <td>Herbs &amp; Spices Store</td>\n",
       "      <td>52f2ab2ebcbc57f1066b8b2c</td>\n",
       "    </tr>\n",
       "    <tr>\n",
       "      <th>7</th>\n",
       "      <td>Southwark</td>\n",
       "      <td>51.5035</td>\n",
       "      <td>-0.0804</td>\n",
       "      <td>5c584c59f2554e002c774e9e</td>\n",
       "      <td>Pimento Hill</td>\n",
       "      <td>51.505712</td>\n",
       "      <td>-0.090629</td>\n",
       "      <td>750</td>\n",
       "      <td>London</td>\n",
       "      <td>United Kingdom</td>\n",
       "      <td>Herbs &amp; Spices Store</td>\n",
       "      <td>Herbs &amp; Spices Store</td>\n",
       "      <td>52f2ab2ebcbc57f1066b8b2c</td>\n",
       "    </tr>\n",
       "  </tbody>\n",
       "</table>\n",
       "</div>"
      ],
      "text/plain": [
       "                  borough  Borough Latitude  Borough Longitude  \\\n",
       "0  Kensington and Chelsea           51.5020            -0.1947   \n",
       "1               Southwark           51.5035            -0.0804   \n",
       "2                   Brent           51.5588            -0.2817   \n",
       "3    Richmond upon Thames           51.4479            -0.3260   \n",
       "4    Richmond upon Thames           51.4479            -0.3260   \n",
       "5               Southwark           51.5035            -0.0804   \n",
       "6  Hammersmith and Fulham           51.4927            -0.2339   \n",
       "7               Southwark           51.5035            -0.0804   \n",
       "\n",
       "                   Venue Id        Venue Name  Venue Latitude  \\\n",
       "0  4ac518f1f964a5200fae20e3    The Spice Shop       51.515901   \n",
       "1  5115114fe4b0f2b66bbaeccb    Spice Mountain       51.505284   \n",
       "2  518e38be498edeec7c53d920         VB & Sons       51.585192   \n",
       "3  548c861d498ee06c324650d9        Nice Spice       51.460080   \n",
       "4  56a1313e498eb269f2eab3ff                T2       51.461084   \n",
       "5  576467fc498ee4a1353d3ce6          Twinings       51.514175   \n",
       "6  5b7e9dc9180b91002c264841  Herbology Health       51.506464   \n",
       "7  5c584c59f2554e002c774e9e      Pimento Hill       51.505712   \n",
       "\n",
       "   Venue Longitude  Venue Distance Venue City   Venue Country  \\\n",
       "0        -0.205181            1709     London  United Kingdom   \n",
       "1        -0.090410             721     London  United Kingdom   \n",
       "2        -0.282383            2938       -NA-  United Kingdom   \n",
       "3        -0.333871            1461       -NA-  United Kingdom   \n",
       "4        -0.303798            2127     London  United Kingdom   \n",
       "5        -0.075297            1239     London  United Kingdom   \n",
       "6        -0.264878            2637    Lincoln  United Kingdom   \n",
       "7        -0.090629             750     London  United Kingdom   \n",
       "\n",
       "         Venue Category  Venue Short Category                   CategId  \n",
       "0  Herbs & Spices Store  Herbs & Spices Store  52f2ab2ebcbc57f1066b8b2c  \n",
       "1  Herbs & Spices Store  Herbs & Spices Store  52f2ab2ebcbc57f1066b8b2c  \n",
       "2  Herbs & Spices Store  Herbs & Spices Store  52f2ab2ebcbc57f1066b8b2c  \n",
       "3  Herbs & Spices Store  Herbs & Spices Store  52f2ab2ebcbc57f1066b8b2c  \n",
       "4  Herbs & Spices Store  Herbs & Spices Store  52f2ab2ebcbc57f1066b8b2c  \n",
       "5  Herbs & Spices Store  Herbs & Spices Store  52f2ab2ebcbc57f1066b8b2c  \n",
       "6  Herbs & Spices Store  Herbs & Spices Store  52f2ab2ebcbc57f1066b8b2c  \n",
       "7  Herbs & Spices Store  Herbs & Spices Store  52f2ab2ebcbc57f1066b8b2c  "
      ]
     },
     "execution_count": 55,
     "metadata": {},
     "output_type": "execute_result"
    }
   ],
   "source": [
    "df_london_spices_ID.sort_values(by = ['Venue Id', 'Venue Distance'], inplace = True)\n",
    "df_closest_london_spices= df_london_spices_ID.groupby('Venue Id').head(1).reset_index(drop=True)\n",
    "df_closest_london_spices"
   ]
  },
  {
   "cell_type": "code",
   "execution_count": 56,
   "metadata": {},
   "outputs": [
    {
     "data": {
      "text/html": [
       "<div>\n",
       "<style scoped>\n",
       "    .dataframe tbody tr th:only-of-type {\n",
       "        vertical-align: middle;\n",
       "    }\n",
       "\n",
       "    .dataframe tbody tr th {\n",
       "        vertical-align: top;\n",
       "    }\n",
       "\n",
       "    .dataframe thead th {\n",
       "        text-align: right;\n",
       "    }\n",
       "</style>\n",
       "<table border=\"1\" class=\"dataframe\">\n",
       "  <thead>\n",
       "    <tr style=\"text-align: right;\">\n",
       "      <th></th>\n",
       "      <th>borough</th>\n",
       "      <th>Number_of_spices_stores</th>\n",
       "    </tr>\n",
       "  </thead>\n",
       "  <tbody>\n",
       "    <tr>\n",
       "      <th>0</th>\n",
       "      <td>Brent</td>\n",
       "      <td>1</td>\n",
       "    </tr>\n",
       "    <tr>\n",
       "      <th>1</th>\n",
       "      <td>Hammersmith and Fulham</td>\n",
       "      <td>1</td>\n",
       "    </tr>\n",
       "    <tr>\n",
       "      <th>2</th>\n",
       "      <td>Kensington and Chelsea</td>\n",
       "      <td>1</td>\n",
       "    </tr>\n",
       "    <tr>\n",
       "      <th>3</th>\n",
       "      <td>Richmond upon Thames</td>\n",
       "      <td>2</td>\n",
       "    </tr>\n",
       "    <tr>\n",
       "      <th>4</th>\n",
       "      <td>Southwark</td>\n",
       "      <td>3</td>\n",
       "    </tr>\n",
       "  </tbody>\n",
       "</table>\n",
       "</div>"
      ],
      "text/plain": [
       "                  borough  Number_of_spices_stores\n",
       "0                   Brent                        1\n",
       "1  Hammersmith and Fulham                        1\n",
       "2  Kensington and Chelsea                        1\n",
       "3    Richmond upon Thames                        2\n",
       "4               Southwark                        3"
      ]
     },
     "execution_count": 56,
     "metadata": {},
     "output_type": "execute_result"
    }
   ],
   "source": [
    "df_spices_store_by_borough = df_closest_london_spices.groupby('borough',as_index=False).count()[['borough', 'Venue Id']]\n",
    "type(df_spices_store_by_borough)\n",
    "df_spices_store_by_borough.columns=['borough', 'Number_of_spices_stores']\n",
    "df_spices_store_by_borough"
   ]
  },
  {
   "cell_type": "markdown",
   "metadata": {},
   "source": [
    "### Data centralization and processing"
   ]
  },
  {
   "cell_type": "code",
   "execution_count": 57,
   "metadata": {},
   "outputs": [
    {
     "name": "stdout",
     "output_type": "stream",
     "text": [
      "(32, 7)\n"
     ]
    },
    {
     "data": {
      "text/html": [
       "<div>\n",
       "<style scoped>\n",
       "    .dataframe tbody tr th:only-of-type {\n",
       "        vertical-align: middle;\n",
       "    }\n",
       "\n",
       "    .dataframe tbody tr th {\n",
       "        vertical-align: top;\n",
       "    }\n",
       "\n",
       "    .dataframe thead th {\n",
       "        text-align: right;\n",
       "    }\n",
       "</style>\n",
       "<table border=\"1\" class=\"dataframe\">\n",
       "  <thead>\n",
       "    <tr style=\"text-align: right;\">\n",
       "      <th></th>\n",
       "      <th>borough</th>\n",
       "      <th>longitude</th>\n",
       "      <th>latitude</th>\n",
       "      <th>Indian_pop_fcast_2025</th>\n",
       "      <th>London_all_pop_fcast_2025</th>\n",
       "      <th>Number_of_Indian_restaurants</th>\n",
       "      <th>Number_of_spices_stores</th>\n",
       "    </tr>\n",
       "  </thead>\n",
       "  <tbody>\n",
       "    <tr>\n",
       "      <th>0</th>\n",
       "      <td>Barking and Dagenham</td>\n",
       "      <td>0.1557</td>\n",
       "      <td>51.5607</td>\n",
       "      <td>15102</td>\n",
       "      <td>237099</td>\n",
       "      <td>4</td>\n",
       "      <td>NaN</td>\n",
       "    </tr>\n",
       "    <tr>\n",
       "      <th>1</th>\n",
       "      <td>Barnet</td>\n",
       "      <td>-0.1517</td>\n",
       "      <td>51.6252</td>\n",
       "      <td>32852</td>\n",
       "      <td>429365</td>\n",
       "      <td>7</td>\n",
       "      <td>NaN</td>\n",
       "    </tr>\n",
       "    <tr>\n",
       "      <th>2</th>\n",
       "      <td>Bexley</td>\n",
       "      <td>0.1505</td>\n",
       "      <td>51.4549</td>\n",
       "      <td>9763</td>\n",
       "      <td>265504</td>\n",
       "      <td>8</td>\n",
       "      <td>NaN</td>\n",
       "    </tr>\n",
       "    <tr>\n",
       "      <th>3</th>\n",
       "      <td>Brent</td>\n",
       "      <td>-0.2817</td>\n",
       "      <td>51.5588</td>\n",
       "      <td>64047</td>\n",
       "      <td>358014</td>\n",
       "      <td>28</td>\n",
       "      <td>1.0</td>\n",
       "    </tr>\n",
       "    <tr>\n",
       "      <th>4</th>\n",
       "      <td>Bromley</td>\n",
       "      <td>0.0198</td>\n",
       "      <td>51.4039</td>\n",
       "      <td>9620</td>\n",
       "      <td>358360</td>\n",
       "      <td>15</td>\n",
       "      <td>NaN</td>\n",
       "    </tr>\n",
       "  </tbody>\n",
       "</table>\n",
       "</div>"
      ],
      "text/plain": [
       "                borough  longitude  latitude  Indian_pop_fcast_2025  \\\n",
       "0  Barking and Dagenham     0.1557   51.5607                  15102   \n",
       "1                Barnet    -0.1517   51.6252                  32852   \n",
       "2                Bexley     0.1505   51.4549                   9763   \n",
       "3                 Brent    -0.2817   51.5588                  64047   \n",
       "4               Bromley     0.0198   51.4039                   9620   \n",
       "\n",
       "   London_all_pop_fcast_2025  Number_of_Indian_restaurants  \\\n",
       "0                     237099                             4   \n",
       "1                     429365                             7   \n",
       "2                     265504                             8   \n",
       "3                     358014                            28   \n",
       "4                     358360                            15   \n",
       "\n",
       "   Number_of_spices_stores  \n",
       "0                      NaN  \n",
       "1                      NaN  \n",
       "2                      NaN  \n",
       "3                      1.0  \n",
       "4                      NaN  "
      ]
     },
     "execution_count": 57,
     "metadata": {},
     "output_type": "execute_result"
    }
   ],
   "source": [
    "#centralize all info in one dataframe\n",
    "\n",
    "from functools import reduce\n",
    "df_all_sets = [df_london_borough,  df_Indian_pop, df_all_pop, df_rest_by_borough ,df_spices_store_by_borough]\n",
    "\n",
    "df_London_Cum_Info = reduce(lambda left,right: pd.merge(left,right,on=['borough'],\n",
    "                                            how='left'), df_all_sets)\n",
    "print(df_London_Cum_Info.shape)\n",
    "\n",
    "df_London_Cum_Info.head()\n"
   ]
  },
  {
   "cell_type": "code",
   "execution_count": 58,
   "metadata": {},
   "outputs": [
    {
     "data": {
      "text/html": [
       "<div>\n",
       "<style scoped>\n",
       "    .dataframe tbody tr th:only-of-type {\n",
       "        vertical-align: middle;\n",
       "    }\n",
       "\n",
       "    .dataframe tbody tr th {\n",
       "        vertical-align: top;\n",
       "    }\n",
       "\n",
       "    .dataframe thead th {\n",
       "        text-align: right;\n",
       "    }\n",
       "</style>\n",
       "<table border=\"1\" class=\"dataframe\">\n",
       "  <thead>\n",
       "    <tr style=\"text-align: right;\">\n",
       "      <th></th>\n",
       "      <th>borough</th>\n",
       "      <th>longitude</th>\n",
       "      <th>latitude</th>\n",
       "      <th>Indian_pop_fcast_2025</th>\n",
       "      <th>London_all_pop_fcast_2025</th>\n",
       "      <th>Number_of_Indian_restaurants</th>\n",
       "      <th>Number_of_spices_stores</th>\n",
       "      <th>Share_of_Indian_pop_in_total</th>\n",
       "      <th>Number_of_Indian_rest_for10tho</th>\n",
       "    </tr>\n",
       "  </thead>\n",
       "  <tbody>\n",
       "    <tr>\n",
       "      <th>0</th>\n",
       "      <td>Barking and Dagenham</td>\n",
       "      <td>0.1557</td>\n",
       "      <td>51.5607</td>\n",
       "      <td>15102</td>\n",
       "      <td>237099</td>\n",
       "      <td>4</td>\n",
       "      <td>0</td>\n",
       "      <td>0.063695</td>\n",
       "      <td>2.648656</td>\n",
       "    </tr>\n",
       "    <tr>\n",
       "      <th>1</th>\n",
       "      <td>Barnet</td>\n",
       "      <td>-0.1517</td>\n",
       "      <td>51.6252</td>\n",
       "      <td>32852</td>\n",
       "      <td>429365</td>\n",
       "      <td>7</td>\n",
       "      <td>0</td>\n",
       "      <td>0.076513</td>\n",
       "      <td>2.130768</td>\n",
       "    </tr>\n",
       "    <tr>\n",
       "      <th>2</th>\n",
       "      <td>Bexley</td>\n",
       "      <td>0.1505</td>\n",
       "      <td>51.4549</td>\n",
       "      <td>9763</td>\n",
       "      <td>265504</td>\n",
       "      <td>8</td>\n",
       "      <td>0</td>\n",
       "      <td>0.036772</td>\n",
       "      <td>8.194203</td>\n",
       "    </tr>\n",
       "    <tr>\n",
       "      <th>3</th>\n",
       "      <td>Brent</td>\n",
       "      <td>-0.2817</td>\n",
       "      <td>51.5588</td>\n",
       "      <td>64047</td>\n",
       "      <td>358014</td>\n",
       "      <td>28</td>\n",
       "      <td>1</td>\n",
       "      <td>0.178895</td>\n",
       "      <td>4.371789</td>\n",
       "    </tr>\n",
       "    <tr>\n",
       "      <th>4</th>\n",
       "      <td>Bromley</td>\n",
       "      <td>0.0198</td>\n",
       "      <td>51.4039</td>\n",
       "      <td>9620</td>\n",
       "      <td>358360</td>\n",
       "      <td>15</td>\n",
       "      <td>0</td>\n",
       "      <td>0.026845</td>\n",
       "      <td>15.592516</td>\n",
       "    </tr>\n",
       "  </tbody>\n",
       "</table>\n",
       "</div>"
      ],
      "text/plain": [
       "                borough  longitude  latitude  Indian_pop_fcast_2025  \\\n",
       "0  Barking and Dagenham     0.1557   51.5607                  15102   \n",
       "1                Barnet    -0.1517   51.6252                  32852   \n",
       "2                Bexley     0.1505   51.4549                   9763   \n",
       "3                 Brent    -0.2817   51.5588                  64047   \n",
       "4               Bromley     0.0198   51.4039                   9620   \n",
       "\n",
       "   London_all_pop_fcast_2025  Number_of_Indian_restaurants  \\\n",
       "0                     237099                             4   \n",
       "1                     429365                             7   \n",
       "2                     265504                             8   \n",
       "3                     358014                            28   \n",
       "4                     358360                            15   \n",
       "\n",
       "   Number_of_spices_stores  Share_of_Indian_pop_in_total  \\\n",
       "0                        0                      0.063695   \n",
       "1                        0                      0.076513   \n",
       "2                        0                      0.036772   \n",
       "3                        1                      0.178895   \n",
       "4                        0                      0.026845   \n",
       "\n",
       "   Number_of_Indian_rest_for10tho  \n",
       "0                        2.648656  \n",
       "1                        2.130768  \n",
       "2                        8.194203  \n",
       "3                        4.371789  \n",
       "4                       15.592516  "
      ]
     },
     "execution_count": 58,
     "metadata": {},
     "output_type": "execute_result"
    }
   ],
   "source": [
    "# create two new features, replace NaN with 0\n",
    "df_London_Cum_Info['Share_of_Indian_pop_in_total'] = df_London_Cum_Info['Indian_pop_fcast_2025']/df_London_Cum_Info['London_all_pop_fcast_2025']\n",
    "df_London_Cum_Info['Number_of_Indian_rest_for10tho'] = df_London_Cum_Info['Number_of_Indian_restaurants']*10000/df_London_Cum_Info['Indian_pop_fcast_2025']\n",
    "df_London_Cum_Info['Number_of_spices_stores'].fillna(value = 0, inplace=True)\n",
    "df_London_Cum_Info = df_London_Cum_Info.astype({'Number_of_spices_stores' :'int64'}, copy=False)\n",
    "df_London_Cum_Info.head()"
   ]
  },
  {
   "cell_type": "code",
   "execution_count": 59,
   "metadata": {},
   "outputs": [
    {
     "data": {
      "text/plain": [
       "Text(0.5, 1.0, 'Boroughs distribution by Share_of_Indian_pop_in_total ')"
      ]
     },
     "execution_count": 59,
     "metadata": {},
     "output_type": "execute_result"
    },
    {
     "data": {
      "image/png": "[encoded data removed]",
      "text/plain": [
       "<Figure size 576x360 with 1 Axes>"
      ]
     },
     "metadata": {
      "needs_background": "light"
     },
     "output_type": "display_data"
    }
   ],
   "source": [
    "df_London_Cum_Info['Share_of_Indian_pop_in_total'].plot(kind='hist', figsize=(8, 5))\n",
    "plt.xlabel('Share_of_Indian_pop_in_total')\n",
    "plt.ylabel('Number of Boroughs')\n",
    "plt.title('Boroughs distribution by Share_of_Indian_pop_in_total ')\n"
   ]
  },
  {
   "cell_type": "code",
   "execution_count": 60,
   "metadata": {},
   "outputs": [
    {
     "data": {
      "text/plain": [
       "Text(0.5, 1.0, 'Boroughs distribution by Number_of_Indian_rest_for10tho ')"
      ]
     },
     "execution_count": 60,
     "metadata": {},
     "output_type": "execute_result"
    },
    {
     "data": {
      "image/png": "[encoded data removed]",
      "text/plain": [
       "<Figure size 576x360 with 1 Axes>"
      ]
     },
     "metadata": {
      "needs_background": "light"
     },
     "output_type": "display_data"
    }
   ],
   "source": [
    "df_London_Cum_Info['Number_of_Indian_rest_for10tho'].plot(kind='hist', figsize=(8, 5))\n",
    "plt.xlabel('Number_of_Indian_rest_for10tho')\n",
    "plt.ylabel('Number of Boroughs')\n",
    "plt.title('Boroughs distribution by Number_of_Indian_rest_for10tho ')\n"
   ]
  },
  {
   "cell_type": "markdown",
   "metadata": {},
   "source": [
    "## Boroughs Clustering"
   ]
  },
  {
   "cell_type": "markdown",
   "metadata": {},
   "source": [
    "There are many models for clustering. For current analysis we chose k-means algorithm which despite its simplicity is vastly used for clustering in many data science applications, especially useful if you need to quickly discover insights from unlabeled data (Coursera notebook ML0101EN-Clus-K-Means-Customer-Seg-py-v1)\n",
    "\n",
    "For the beginning let's visualize quickly the boroughs on London map."
   ]
  },
  {
   "cell_type": "code",
   "execution_count": 79,
   "metadata": {},
   "outputs": [
    {
     "name": "stdout",
     "output_type": "stream",
     "text": [
      "London, UK latitude and longitude are 51.5073219, -0.1276474.\n"
     ]
    }
   ],
   "source": [
    "# Retrieve the Latitude and Longitude for London\n",
    "\n",
    "geolocator = Nominatim(user_agent=\"London_explorer\")\n",
    "\n",
    "location = geolocator.geocode(\"London, UK\")\n",
    "latitude = location.latitude\n",
    "longitude = location.longitude\n",
    "\n",
    "print('London, UK latitude and longitude are {}, {}.'.format(latitude, longitude))"
   ]
  },
  {
   "cell_type": "code",
   "execution_count": 93,
   "metadata": {},
   "outputs": [
    {
     "data": {
      "text/html": [
       "<div style=\"width:100%;\"><div style=\"position:relative;width:100%;height:0;padding-bottom:60%;\"><iframe src=\"about:blank\" style=\"position:absolute;width:100%;height:100%;left:0;top:0;border:none !important;\" data-html=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 onload=\"this.contentDocument.open();this.contentDocument.write(atob(this.getAttribute('data-html')));this.contentDocument.close();\" allowfullscreen webkitallowfullscreen mozallowfullscreen></iframe></div></div>"
      ],
      "text/plain": [
       "<folium.folium.Map at 0x7f185b8364a8>"
      ]
     },
     "execution_count": 93,
     "metadata": {},
     "output_type": "execute_result"
    }
   ],
   "source": [
    "\n",
    "london_map = folium.Map(location=[latitude, longitude], zoom_start=10)\n",
    "\n",
    "\n",
    "# add markers to map\n",
    "for lat, lng, label in zip(df_london_borough['latitude'], df_london_borough['longitude'], df_london_borough['borough']):\n",
    "    label = folium.Popup(label, parse_html=True)\n",
    "    folium.CircleMarker(\n",
    "        [lat, lng],\n",
    "        radius=25,\n",
    "        popup=label,\n",
    "        color='darkblue',\n",
    "        fill=True,\n",
    "        fill_color= '#3186cc',\n",
    "        fill_opacity=0.2,\n",
    "        parse_html=False).add_to(london_map)  \n",
    "    \n",
    "london_map"
   ]
  },
  {
   "cell_type": "code",
   "execution_count": null,
   "metadata": {},
   "outputs": [],
   "source": []
  },
  {
   "cell_type": "code",
   "execution_count": 61,
   "metadata": {},
   "outputs": [],
   "source": [
    "from sklearn.cluster import KMeans\n",
    "from sklearn import preprocessing\n",
    "from sklearn.metrics import silhouette_score\n",
    "%matplotlib inline"
   ]
  },
  {
   "cell_type": "markdown",
   "metadata": {},
   "source": [
    "We are going to use only 3 features for k-means"
   ]
  },
  {
   "cell_type": "code",
   "execution_count": 62,
   "metadata": {},
   "outputs": [
    {
     "name": "stdout",
     "output_type": "stream",
     "text": [
      "(32, 3)\n"
     ]
    }
   ],
   "source": [
    "X= df_London_Cum_Info[['Indian_pop_fcast_2025', 'Share_of_Indian_pop_in_total', 'Number_of_Indian_rest_for10tho']]\n",
    "print(X.shape)\n"
   ]
  },
  {
   "cell_type": "code",
   "execution_count": 63,
   "metadata": {},
   "outputs": [
    {
     "name": "stdout",
     "output_type": "stream",
     "text": [
      "[0. 0. 0. 0. 0. 0. 0. 0. 0.]\n"
     ]
    },
    {
     "name": "stderr",
     "output_type": "stream",
     "text": [
      "/home/jupyterlab/conda/envs/python/lib/python3.6/site-packages/sklearn/preprocessing/data.py:625: DataConversionWarning: Data with input dtype int64, float64 were all converted to float64 by StandardScaler.\n",
      "  return self.partial_fit(X, y)\n"
     ]
    },
    {
     "name": "stdout",
     "output_type": "stream",
     "text": [
      "silhouette score values are:  [0.66873288 0.69492479 0.53685057 0.51690057 0.57013145 0.55458069\n",
      " 0.53485611 0.5003478  0.39829489]\n",
      "inertia_ = Sum of squared distances values are:  [96.         36.42341603 15.35092765 10.11813821  6.7972236   4.30084132\n",
      "  2.66413194  1.96749437  1.34174767  1.04924506]\n"
     ]
    }
   ],
   "source": [
    "\n",
    "X_std = preprocessing.StandardScaler().fit(X).transform(X.astype(float))\n",
    "\n",
    "# estimate optimal kclusters using silhouette_score and elbow method\n",
    "kmax = 10\n",
    "\n",
    "sil_score = np.zeros((kmax-1))\n",
    "sqrd_dist = np.zeros((kmax-1))\n",
    "print(sil_score)\n",
    "\n",
    "\n",
    "for k in range(2, kmax+1) :\n",
    "    k_means = KMeans(init = \"k-means++\", n_clusters=k, random_state=0,  n_init = 30).fit(X_std)\n",
    "    sil_score[k-2] = silhouette_score(X_std, k_means.labels_, metric = 'euclidean')\n",
    "    sqrd_dist[k-2] = k_means.inertia_\n",
    "    \n",
    "\n",
    "k_one_dist= KMeans(init = \"k-means++\", n_clusters=1, random_state=0,  n_init = 30).fit(X_std).inertia_  \n",
    "sqrd_dist = np.insert(sqrd_dist,0, k_one_dist)\n",
    "    \n",
    "print(\"silhouette score values are: \" ,sil_score)\n",
    "print(\"inertia_ = Sum of squared distances values are: \" ,sqrd_dist)\n"
   ]
  },
  {
   "cell_type": "code",
   "execution_count": 64,
   "metadata": {},
   "outputs": [
    {
     "data": {
      "image/png": "[encoded data removed]",
      "text/plain": [
       "<Figure size 432x288 with 1 Axes>"
      ]
     },
     "metadata": {
      "needs_background": "light"
     },
     "output_type": "display_data"
    },
    {
     "data": {
      "image/png": "[encoded data removed]",
      "text/plain": [
       "<Figure size 432x288 with 1 Axes>"
      ]
     },
     "metadata": {
      "needs_background": "light"
     },
     "output_type": "display_data"
    }
   ],
   "source": [
    "#fig, axs = plt.subplots(12)\n",
    "#fig.suptitle('Vertically stacked subplots')\n",
    "#axs[0].plot(x, y)\n",
    "#axs[1].plot(x, -y)\n",
    "\n",
    "plt.plot(range(2,kmax+1),sil_score,'bx-')\n",
    "plt.ylabel('silhouette_score')\n",
    "plt.xlabel('Number of clusters (K)')\n",
    "plt.tight_layout()\n",
    "plt.title('The Silhouette score by number of clusters(k)')\n",
    "plt.show()\n",
    "\n",
    "# inertia_ = Sum of squared distances of samples to their closest cluster center.\n",
    "#plt.figure(figsize=[16,8])\n",
    "plt.plot(range(1,kmax+1), sqrd_dist, 'bx-')\n",
    "plt.xlabel('Number of clusters (K)')\n",
    "plt.ylabel('Distortion /Sum of squared distances')\n",
    "plt.tight_layout()\n",
    "plt.title('The Elbow Method')\n",
    "plt.show()"
   ]
  },
  {
   "cell_type": "code",
   "execution_count": 65,
   "metadata": {},
   "outputs": [
    {
     "name": "stdout",
     "output_type": "stream",
     "text": [
      "The max silhouette_score was  0.6949247896996393 with k= 3\n"
     ]
    }
   ],
   "source": [
    "print( \"The max silhouette_score was \", sil_score.max(), \"with k=\", sil_score.argmax()+2) "
   ]
  },
  {
   "cell_type": "code",
   "execution_count": null,
   "metadata": {},
   "outputs": [],
   "source": []
  },
  {
   "cell_type": "code",
   "execution_count": 66,
   "metadata": {},
   "outputs": [
    {
     "name": "stdout",
     "output_type": "stream",
     "text": [
      "Cluster Labels does not exist in df_London_Cum_Info.\n"
     ]
    }
   ],
   "source": [
    "\n",
    "kclusters=sil_score.argmax()+2\n",
    "k_means = KMeans(init = \"k-means++\", n_clusters=kclusters, random_state=0,  n_init = 30).fit(X_std)\n",
    "labels = k_means.labels_\n",
    "\n",
    "try:\n",
    "    df_London_Cum_Info = df_London_Cum_Info.drop('Cluster Labels', axis=1)\n",
    "except:\n",
    "    print('Cluster Labels does not exist in df_London_Cum_Info.')   \n",
    "    \n",
    "df_London_Cum_Info.insert(0, 'Cluster Labels', k_means.labels_)\n"
   ]
  },
  {
   "cell_type": "code",
   "execution_count": 67,
   "metadata": {},
   "outputs": [
    {
     "data": {
      "text/plain": [
       "0    23\n",
       "1     7\n",
       "2     2\n",
       "Name: Cluster Labels, dtype: int64"
      ]
     },
     "execution_count": 67,
     "metadata": {},
     "output_type": "execute_result"
    }
   ],
   "source": [
    "# explorare profil segmente\n",
    "df_London_Cum_Info['Cluster Labels'].value_counts()"
   ]
  },
  {
   "cell_type": "code",
   "execution_count": 68,
   "metadata": {},
   "outputs": [
    {
     "data": {
      "text/html": [
       "<div>\n",
       "<style scoped>\n",
       "    .dataframe tbody tr th:only-of-type {\n",
       "        vertical-align: middle;\n",
       "    }\n",
       "\n",
       "    .dataframe tbody tr th {\n",
       "        vertical-align: top;\n",
       "    }\n",
       "\n",
       "    .dataframe thead th {\n",
       "        text-align: right;\n",
       "    }\n",
       "</style>\n",
       "<table border=\"1\" class=\"dataframe\">\n",
       "  <thead>\n",
       "    <tr style=\"text-align: right;\">\n",
       "      <th></th>\n",
       "      <th>longitude</th>\n",
       "      <th>latitude</th>\n",
       "      <th>Indian_pop_fcast_2025</th>\n",
       "      <th>London_all_pop_fcast_2025</th>\n",
       "      <th>Number_of_Indian_restaurants</th>\n",
       "      <th>Number_of_spices_stores</th>\n",
       "      <th>Share_of_Indian_pop_in_total</th>\n",
       "      <th>Number_of_Indian_rest_for10tho</th>\n",
       "    </tr>\n",
       "    <tr>\n",
       "      <th>Cluster Labels</th>\n",
       "      <th></th>\n",
       "      <th></th>\n",
       "      <th></th>\n",
       "      <th></th>\n",
       "      <th></th>\n",
       "      <th></th>\n",
       "      <th></th>\n",
       "      <th></th>\n",
       "    </tr>\n",
       "  </thead>\n",
       "  <tbody>\n",
       "    <tr>\n",
       "      <th>0</th>\n",
       "      <td>-0.075543</td>\n",
       "      <td>51.497374</td>\n",
       "      <td>11354.260870</td>\n",
       "      <td>301419.304348</td>\n",
       "      <td>18.434783</td>\n",
       "      <td>0.217391</td>\n",
       "      <td>0.037045</td>\n",
       "      <td>20.957077</td>\n",
       "    </tr>\n",
       "    <tr>\n",
       "      <th>1</th>\n",
       "      <td>-0.235457</td>\n",
       "      <td>51.535286</td>\n",
       "      <td>64551.857143</td>\n",
       "      <td>336386.571429</td>\n",
       "      <td>22.714286</td>\n",
       "      <td>0.142857</td>\n",
       "      <td>0.196802</td>\n",
       "      <td>3.568915</td>\n",
       "    </tr>\n",
       "    <tr>\n",
       "      <th>2</th>\n",
       "      <td>-0.214300</td>\n",
       "      <td>51.497350</td>\n",
       "      <td>3030.000000</td>\n",
       "      <td>177885.500000</td>\n",
       "      <td>36.500000</td>\n",
       "      <td>1.000000</td>\n",
       "      <td>0.016963</td>\n",
       "      <td>124.106050</td>\n",
       "    </tr>\n",
       "  </tbody>\n",
       "</table>\n",
       "</div>"
      ],
      "text/plain": [
       "                longitude   latitude  Indian_pop_fcast_2025  \\\n",
       "Cluster Labels                                                \n",
       "0               -0.075543  51.497374           11354.260870   \n",
       "1               -0.235457  51.535286           64551.857143   \n",
       "2               -0.214300  51.497350            3030.000000   \n",
       "\n",
       "                London_all_pop_fcast_2025  Number_of_Indian_restaurants  \\\n",
       "Cluster Labels                                                            \n",
       "0                           301419.304348                     18.434783   \n",
       "1                           336386.571429                     22.714286   \n",
       "2                           177885.500000                     36.500000   \n",
       "\n",
       "                Number_of_spices_stores  Share_of_Indian_pop_in_total  \\\n",
       "Cluster Labels                                                          \n",
       "0                              0.217391                      0.037045   \n",
       "1                              0.142857                      0.196802   \n",
       "2                              1.000000                      0.016963   \n",
       "\n",
       "                Number_of_Indian_rest_for10tho  \n",
       "Cluster Labels                                  \n",
       "0                                    20.957077  \n",
       "1                                     3.568915  \n",
       "2                                   124.106050  "
      ]
     },
     "execution_count": 68,
     "metadata": {},
     "output_type": "execute_result"
    }
   ],
   "source": [
    "df_London_Cum_Info.groupby(['Cluster Labels']).mean()"
   ]
  },
  {
   "cell_type": "code",
   "execution_count": 69,
   "metadata": {},
   "outputs": [
    {
     "data": {
      "image/png": "[encoded data removed]",
      "text/plain": [
       "<Figure size 432x288 with 1 Axes>"
      ]
     },
     "metadata": {
      "needs_background": "light"
     },
     "output_type": "display_data"
    }
   ],
   "source": [
    "groups = df_London_Cum_Info.groupby('Cluster Labels')\n",
    "for name, group in groups:\n",
    "    plt.plot(group['Indian_pop_fcast_2025'], group['Number_of_Indian_rest_for10tho'], marker=\"o\", linestyle=\"\",  label=name)\n",
    "plt.legend()\n",
    "plt.xlabel('British Indian population fcast 2025')\n",
    "plt.ylabel('Number of Indian restaurant for 10thous. persons')\n",
    "plt.tight_layout()\n",
    "plt.title('London boroughs clusters')\n",
    "plt.show()"
   ]
  },
  {
   "cell_type": "code",
   "execution_count": 70,
   "metadata": {},
   "outputs": [
    {
     "name": "stderr",
     "output_type": "stream",
     "text": [
      "/home/jupyterlab/conda/envs/python/lib/python3.6/site-packages/seaborn/axisgrid.py:2065: UserWarning: The `size` parameter has been renamed to `height`; pleaes update your code.\n",
      "  warnings.warn(msg, UserWarning)\n"
     ]
    },
    {
     "data": {
      "text/plain": [
       "<seaborn.axisgrid.PairGrid at 0x7f1808fe25c0>"
      ]
     },
     "execution_count": 70,
     "metadata": {},
     "output_type": "execute_result"
    },
    {
     "data": {
      "image/png": "[encoded data removed]",
      "text/plain": [
       "<Figure size 654.75x576 with 6 Axes>"
      ]
     },
     "metadata": {
      "needs_background": "light"
     },
     "output_type": "display_data"
    }
   ],
   "source": [
    "import seaborn as sns\n",
    "sns.pairplot(vars=[ 'Share_of_Indian_pop_in_total', 'Number_of_Indian_rest_for10tho'], data=df_London_Cum_Info, hue='Cluster Labels', size=4)"
   ]
  },
  {
   "cell_type": "code",
   "execution_count": 92,
   "metadata": {},
   "outputs": [
    {
     "data": {
      "text/html": [
       "<div style=\"width:100%;\"><div style=\"position:relative;width:100%;height:0;padding-bottom:60%;\"><iframe src=\"about:blank\" style=\"position:absolute;width:100%;height:100%;left:0;top:0;border:none !important;\" data-html=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 onload=\"this.contentDocument.open();this.contentDocument.write(atob(this.getAttribute('data-html')));this.contentDocument.close();\" allowfullscreen webkitallowfullscreen mozallowfullscreen></iframe></div></div>"
      ],
      "text/plain": [
       "<folium.folium.Map at 0x7f17efc3f128>"
      ]
     },
     "execution_count": 92,
     "metadata": {},
     "output_type": "execute_result"
    }
   ],
   "source": [
    "\n",
    "# create map\n",
    "map_clusters = folium.Map(location=[latitude, longitude], zoom_start=10)\n",
    "\n",
    "# set color for the three clusters\n",
    "\n",
    "#default: cycler('color', ['#1f77b4', '#ff7f0e', '#2ca02c', '#d62728', '#9467bd', '#8c564b', '#e377c2', '#7f7f7f', '#bcbd22', '#17becf'])).\n",
    "      \n",
    "color_dic={0:'#1f77b4', 1:'#ff7f0e', 2:'#2ca02c'}\n",
    "# add markers to the map\n",
    "\n",
    "for lat, lon, poi, cluster in zip(df_London_Cum_Info['latitude'], df_London_Cum_Info['longitude'], \n",
    "                                  df_London_Cum_Info['borough'], df_London_Cum_Info['Cluster Labels']):\n",
    "    label = folium.Popup(str(poi) + ' Cluster ' + str(cluster), parse_html=True)\n",
    "    folium.CircleMarker(\n",
    "        [lat, lon],\n",
    "        radius=20,\n",
    "        popup=label,\n",
    "        color=color_dic[cluster],\n",
    "        fill=True,\n",
    "        fill_color=color_dic[cluster],\n",
    "        fill_opacity=0.3).add_to(map_clusters)\n",
    "    \n",
    "# The Spice Shop and Spice Mountain are considered the main competitors \n",
    "# add competition to map\n",
    "spice_stores_location = df_closest_london_spices[['Venue Latitude', 'Venue Longitude']].values.tolist()\n",
    "\n",
    "for point in range(0, 2):\n",
    "    folium.Marker(spice_stores_location[point], \n",
    "                  popup=df_closest_london_spices['Venue Name'][point]).add_to(map_clusters)\n",
    "map_clusters"
   ]
  },
  {
   "cell_type": "markdown",
   "metadata": {},
   "source": [
    "![](https://github.com/AMJ234/Coursera_Capstone/blob/master/Clusters_map.png?raw=true \"Clusters on London map\")\n"
   ]
  },
  {
   "cell_type": "code",
   "execution_count": 76,
   "metadata": {},
   "outputs": [
    {
     "data": {
      "text/html": [
       "<div>\n",
       "<style scoped>\n",
       "    .dataframe tbody tr th:only-of-type {\n",
       "        vertical-align: middle;\n",
       "    }\n",
       "\n",
       "    .dataframe tbody tr th {\n",
       "        vertical-align: top;\n",
       "    }\n",
       "\n",
       "    .dataframe thead th {\n",
       "        text-align: right;\n",
       "    }\n",
       "</style>\n",
       "<table border=\"1\" class=\"dataframe\">\n",
       "  <thead>\n",
       "    <tr style=\"text-align: right;\">\n",
       "      <th></th>\n",
       "      <th>Cluster Labels</th>\n",
       "      <th>borough</th>\n",
       "      <th>longitude</th>\n",
       "      <th>latitude</th>\n",
       "      <th>Indian_pop_fcast_2025</th>\n",
       "      <th>London_all_pop_fcast_2025</th>\n",
       "      <th>Number_of_Indian_restaurants</th>\n",
       "      <th>Number_of_spices_stores</th>\n",
       "      <th>Share_of_Indian_pop_in_total</th>\n",
       "      <th>Number_of_Indian_rest_for10tho</th>\n",
       "    </tr>\n",
       "  </thead>\n",
       "  <tbody>\n",
       "    <tr>\n",
       "      <th>3</th>\n",
       "      <td>1</td>\n",
       "      <td>Brent</td>\n",
       "      <td>-0.2817</td>\n",
       "      <td>51.5588</td>\n",
       "      <td>64047</td>\n",
       "      <td>358014</td>\n",
       "      <td>28</td>\n",
       "      <td>1</td>\n",
       "      <td>0.178895</td>\n",
       "      <td>4.371789</td>\n",
       "    </tr>\n",
       "    <tr>\n",
       "      <th>7</th>\n",
       "      <td>1</td>\n",
       "      <td>Ealing</td>\n",
       "      <td>-0.3089</td>\n",
       "      <td>51.5130</td>\n",
       "      <td>51134</td>\n",
       "      <td>371105</td>\n",
       "      <td>32</td>\n",
       "      <td>0</td>\n",
       "      <td>0.137788</td>\n",
       "      <td>6.258067</td>\n",
       "    </tr>\n",
       "    <tr>\n",
       "      <th>13</th>\n",
       "      <td>1</td>\n",
       "      <td>Harrow</td>\n",
       "      <td>-0.3346</td>\n",
       "      <td>51.5898</td>\n",
       "      <td>83056</td>\n",
       "      <td>272524</td>\n",
       "      <td>28</td>\n",
       "      <td>0</td>\n",
       "      <td>0.304766</td>\n",
       "      <td>3.371219</td>\n",
       "    </tr>\n",
       "    <tr>\n",
       "      <th>15</th>\n",
       "      <td>1</td>\n",
       "      <td>Hillingdon</td>\n",
       "      <td>-0.4760</td>\n",
       "      <td>51.5441</td>\n",
       "      <td>60196</td>\n",
       "      <td>335476</td>\n",
       "      <td>6</td>\n",
       "      <td>0</td>\n",
       "      <td>0.179435</td>\n",
       "      <td>0.996744</td>\n",
       "    </tr>\n",
       "    <tr>\n",
       "      <th>16</th>\n",
       "      <td>1</td>\n",
       "      <td>Hounslow</td>\n",
       "      <td>-0.3680</td>\n",
       "      <td>51.4746</td>\n",
       "      <td>64483</td>\n",
       "      <td>298722</td>\n",
       "      <td>42</td>\n",
       "      <td>0</td>\n",
       "      <td>0.215863</td>\n",
       "      <td>6.513345</td>\n",
       "    </tr>\n",
       "    <tr>\n",
       "      <th>23</th>\n",
       "      <td>1</td>\n",
       "      <td>Newham</td>\n",
       "      <td>0.0469</td>\n",
       "      <td>51.5077</td>\n",
       "      <td>62283</td>\n",
       "      <td>381525</td>\n",
       "      <td>2</td>\n",
       "      <td>0</td>\n",
       "      <td>0.163247</td>\n",
       "      <td>0.321115</td>\n",
       "    </tr>\n",
       "    <tr>\n",
       "      <th>24</th>\n",
       "      <td>1</td>\n",
       "      <td>Redbridge</td>\n",
       "      <td>0.0741</td>\n",
       "      <td>51.5590</td>\n",
       "      <td>66664</td>\n",
       "      <td>337340</td>\n",
       "      <td>21</td>\n",
       "      <td>0</td>\n",
       "      <td>0.197617</td>\n",
       "      <td>3.150126</td>\n",
       "    </tr>\n",
       "  </tbody>\n",
       "</table>\n",
       "</div>"
      ],
      "text/plain": [
       "    Cluster Labels     borough  longitude  latitude  Indian_pop_fcast_2025  \\\n",
       "3                1       Brent    -0.2817   51.5588                  64047   \n",
       "7                1      Ealing    -0.3089   51.5130                  51134   \n",
       "13               1      Harrow    -0.3346   51.5898                  83056   \n",
       "15               1  Hillingdon    -0.4760   51.5441                  60196   \n",
       "16               1    Hounslow    -0.3680   51.4746                  64483   \n",
       "23               1      Newham     0.0469   51.5077                  62283   \n",
       "24               1   Redbridge     0.0741   51.5590                  66664   \n",
       "\n",
       "    London_all_pop_fcast_2025  Number_of_Indian_restaurants  \\\n",
       "3                      358014                            28   \n",
       "7                      371105                            32   \n",
       "13                     272524                            28   \n",
       "15                     335476                             6   \n",
       "16                     298722                            42   \n",
       "23                     381525                             2   \n",
       "24                     337340                            21   \n",
       "\n",
       "    Number_of_spices_stores  Share_of_Indian_pop_in_total  \\\n",
       "3                         1                      0.178895   \n",
       "7                         0                      0.137788   \n",
       "13                        0                      0.304766   \n",
       "15                        0                      0.179435   \n",
       "16                        0                      0.215863   \n",
       "23                        0                      0.163247   \n",
       "24                        0                      0.197617   \n",
       "\n",
       "    Number_of_Indian_rest_for10tho  \n",
       "3                         4.371789  \n",
       "7                         6.258067  \n",
       "13                        3.371219  \n",
       "15                        0.996744  \n",
       "16                        6.513345  \n",
       "23                        0.321115  \n",
       "24                        3.150126  "
      ]
     },
     "execution_count": 76,
     "metadata": {},
     "output_type": "execute_result"
    }
   ],
   "source": [
    "df_London_Cum_Info[df_London_Cum_Info['Cluster Labels']==1]"
   ]
  },
  {
   "cell_type": "code",
   "execution_count": null,
   "metadata": {},
   "outputs": [],
   "source": []
  }
 ],
 "metadata": {
  "kernelspec": {
   "display_name": "Python",
   "language": "python",
   "name": "conda-env-python-py"
  },
  "language_info": {
   "codemirror_mode": {
    "name": "ipython",
    "version": 3
   },
   "file_extension": ".py",
   "mimetype": "text/x-python",
   "name": "python",
   "nbconvert_exporter": "python",
   "pygments_lexer": "ipython3",
   "version": "3.6.10"
  }
 },
 "nbformat": 4,
 "nbformat_minor": 4
}
